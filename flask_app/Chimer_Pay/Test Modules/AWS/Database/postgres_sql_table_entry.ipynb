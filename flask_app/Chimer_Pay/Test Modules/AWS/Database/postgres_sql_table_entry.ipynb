{
 "cells": [
  {
   "cell_type": "code",
   "execution_count": 1,
   "metadata": {},
   "outputs": [],
   "source": [
    "import psycopg2.pool\n",
    "from flask import Flask, jsonify\n"
   ]
  },
  {
   "cell_type": "code",
   "execution_count": 2,
   "metadata": {},
   "outputs": [],
   "source": [
    "\n",
    "\n",
    "pool = psycopg2.pool.SimpleConnectionPool(1, 20,\n",
    "                                            host=\"chimera-db-instance.cfwdn6rdkll5.us-east-1.rds.amazonaws.com\",\n",
    "                                            port=\"5432\",\n",
    "                                            database=\"chimera_pay\",\n",
    "                                            user=\"Chimera_DB\",\n",
    "                                            password=\"Test12345\")\n",
    "\n"
   ]
  },
  {
   "cell_type": "code",
   "execution_count": 3,
   "metadata": {},
   "outputs": [],
   "source": [
    "columns = [\"phone\",\"Address\"]\n",
    "#"
   ]
  },
  {
   "cell_type": "code",
   "execution_count": 3,
   "metadata": {},
   "outputs": [],
   "source": [
    "query = \"select phone, Address from chimera_user \""
   ]
  },
  {
   "cell_type": "code",
   "execution_count": 12,
   "metadata": {},
   "outputs": [],
   "source": [
    "query = \"insert into chimera_user (phone, Address) values ('+919958498945','ABC Address')\""
   ]
  },
  {
   "cell_type": "code",
   "execution_count": 28,
   "metadata": {},
   "outputs": [],
   "source": [
    "query = \"select phone, Address from chimera_user where phone like '+919958498945'\""
   ]
  },
  {
   "cell_type": "code",
   "execution_count": 20,
   "metadata": {},
   "outputs": [],
   "source": [
    "\n"
   ]
  },
  {
   "cell_type": "code",
   "execution_count": 4,
   "metadata": {},
   "outputs": [
    {
     "data": {
      "text/plain": [
       "[('+919958498955', 'ABC Address'), ('+919958498945', 'ABC Address')]"
      ]
     },
     "execution_count": 4,
     "metadata": {},
     "output_type": "execute_result"
    }
   ],
   "source": [
    "conn = pool.getconn()\n",
    "conn.autocommit = True\n",
    "with conn.cursor() as cursor:\n",
    "    cursor.execute(query)\n",
    "    record = cursor.fetchall()\n",
    "\n",
    "pool.putconn(conn)\n",
    "record\n"
   ]
  },
  {
   "cell_type": "code",
   "execution_count": 9,
   "metadata": {},
   "outputs": [],
   "source": [
    "def execute_enter_data(table_name:str, \n",
    "                            column_names:str, \n",
    "                            values):\n",
    "                            \n",
    "    \n",
    "    columns_to_enter = \",\".join(map(str,column_names))\n",
    "    values_to_enter  = \",\".join(map(lambda x: rf\"'{x}'\",values))    \n",
    "    #base query                        \n",
    "    query = f\"insert into {table_name} ({columns_to_enter}) values ({values_to_enter})\"\n",
    "\n",
    "\n",
    "    # return query\n",
    "    try:\n",
    "        # Get a connection from the pool\n",
    "        conn = pool.getconn()\n",
    "        conn.autocommit = True\n",
    "        with conn.cursor() as cursor:\n",
    "            cursor.execute(query)\n",
    "            return 1\n",
    "            # record = await cursor.fetchone()\n",
    "            # return jsonify({\"id\": record[0], \"name\": record[1], \"cost\": record[2]})\n",
    "\n",
    "    except (Exception, psycopg2.Error) as error :\n",
    "        print(query)\n",
    "        print (\"Error while inserting data from PostgreSQL -->\", error)\n",
    "        return -1\n",
    "\n",
    "    finally:\n",
    "        # Return the connection to the pool\n",
    "        if(conn):\n",
    "            pool.putconn(conn)\n",
    "            print(\"PostgreSQL connection returned to the pool\")"
   ]
  },
  {
   "cell_type": "code",
   "execution_count": 10,
   "metadata": {},
   "outputs": [
    {
     "name": "stdout",
     "output_type": "stream",
     "text": [
      "PostgreSQL connection returned to the pool\n"
     ]
    },
    {
     "data": {
      "text/plain": [
       "1"
      ]
     },
     "execution_count": 10,
     "metadata": {},
     "output_type": "execute_result"
    }
   ],
   "source": [
    "execute_enter_data(\"chimera_user\", [\"phone\",\"Address\"], [\"+919958498965\",\"ABCD\"])"
   ]
  },
  {
   "cell_type": "code",
   "execution_count": 6,
   "metadata": {},
   "outputs": [],
   "source": [
    "def execute_get_data(table_name:str, \n",
    "                    column_names:str = None, \n",
    "                    where_dict:dict = None):\n",
    "\n",
    "    if column_names != None:\n",
    "        columns_to_return = \",\".join(map(str,column_names))\n",
    "    else:\n",
    "        columns_to_return = \"*\"\n",
    "    #base query                        \n",
    "    query = f\"select {columns_to_return} from {table_name}\"\n",
    "\n",
    "    if where_dict!=None:\n",
    "        where_clause    = \" AND \".join(map(lambda x : f\"{x} like '{where_dict[x]}'\",where_dict))\n",
    "        query           = query + \" where \"+where_clause\n",
    "    # return query\n",
    "\n",
    "    try:\n",
    "        # Get a connection from the pool\n",
    "        conn = pool.getconn()\n",
    "        conn.autocommit = True\n",
    "        with conn.cursor() as cursor:\n",
    "            cursor.execute(query)\n",
    "            record = cursor.fetchall()\n",
    "            return record\n",
    "\n",
    "    except (Exception, psycopg2.Error) as error :\n",
    "        print(query)\n",
    "        print (\"Error while fetching data from PostgreSQL -->\", error)\n",
    "        return -1\n",
    "\n",
    "    finally:\n",
    "        # Return the connection to the pool\n",
    "        if(conn):\n",
    "            pool.putconn(conn)\n",
    "            print(\"PostgreSQL connection returned to the pool\")"
   ]
  },
  {
   "cell_type": "code",
   "execution_count": 7,
   "metadata": {},
   "outputs": [
    {
     "name": "stdout",
     "output_type": "stream",
     "text": [
      "PostgreSQL connection returned to the pool\n"
     ]
    },
    {
     "data": {
      "text/plain": [
       "[('+919958498965', 'ABCD')]"
      ]
     },
     "execution_count": 7,
     "metadata": {},
     "output_type": "execute_result"
    }
   ],
   "source": [
    "execute_get_data(\"chimera_user\", [\"phone\",\"Address\"], {\"phone\" : \"+919958498965\"})"
   ]
  },
  {
   "cell_type": "code",
   "execution_count": 8,
   "metadata": {},
   "outputs": [
    {
     "name": "stdout",
     "output_type": "stream",
     "text": [
      "PostgreSQL connection returned to the pool\n"
     ]
    },
    {
     "data": {
      "text/plain": [
       "[('+919958498955', 'ABC Address'),\n",
       " ('+919958498945', 'ABC Address'),\n",
       " ('+919958498965', 'ABCD')]"
      ]
     },
     "execution_count": 8,
     "metadata": {},
     "output_type": "execute_result"
    }
   ],
   "source": [
    "execute_get_data(\"chimera_user\", [\"phone\",\"Address\"])"
   ]
  },
  {
   "cell_type": "code",
   "execution_count": null,
   "metadata": {},
   "outputs": [],
   "source": []
  },
  {
   "cell_type": "code",
   "execution_count": null,
   "metadata": {},
   "outputs": [],
   "source": [
    "async def execute_get_data(table_name, column_names =None, where_dict = None):\n",
    "    \n",
    "  try:\n",
    "    # Get a connection from the pool\n",
    "    conn = pool.getconn()\n",
    "\n",
    "    async with conn.cursor() as cursor:\n",
    "      postgreSQL_select_Query = \"select * from postage where id = %s\"\n",
    "      await cursor.execute(postgreSQL_select_Query, (id,))\n",
    "      record = await cursor.fetchone()\n",
    "      return jsonify({\"id\": record[0], \"name\": record[1], \"cost\": record[2]})\n",
    "\n",
    "  except (Exception, psycopg2.Error) as error :\n",
    "      print (\"Error while fetching data from PostgreSQL\", error)\n",
    "\n",
    "  finally:\n",
    "      # Return the connection to the pool\n",
    "      if(conn):\n",
    "          pool.putconn(conn)\n",
    "          print(\"PostgreSQL connection returned to the pool\")"
   ]
  },
  {
   "cell_type": "code",
   "execution_count": null,
   "metadata": {},
   "outputs": [],
   "source": [
    "async def execute_query(query):\n",
    "  try:\n",
    "    # Get a connection from the pool\n",
    "    conn = pool.getconn()\n",
    "\n",
    "    async with conn.cursor() as cursor:\n",
    "      postgreSQL_select_Query = \"select * from postage where id = %s\"\n",
    "      await cursor.execute(postgreSQL_select_Query, (id,))\n",
    "      record = await cursor.fetchone()\n",
    "      return jsonify({\"id\": record[0], \"name\": record[1], \"cost\": record[2]})\n",
    "\n",
    "  except (Exception, psycopg2.Error) as error :\n",
    "      print (\"Error while fetching data from PostgreSQL\", error)\n",
    "\n",
    "  finally:\n",
    "      # Return the connection to the pool\n",
    "      if(conn):\n",
    "          pool.putconn(conn)\n",
    "          print(\"PostgreSQL connection returned to the pool\")"
   ]
  }
 ],
 "metadata": {
  "kernelspec": {
   "display_name": "Chimera",
   "language": "python",
   "name": "python3"
  },
  "language_info": {
   "codemirror_mode": {
    "name": "ipython",
    "version": 3
   },
   "file_extension": ".py",
   "mimetype": "text/x-python",
   "name": "python",
   "nbconvert_exporter": "python",
   "pygments_lexer": "ipython3",
   "version": "3.8.15"
  },
  "orig_nbformat": 4,
  "vscode": {
   "interpreter": {
    "hash": "7bccbb9776c8d6e6e2ffbf134f4db1f5658f0edaed5820fb1cc7ba26f3a713c5"
   }
  }
 },
 "nbformat": 4,
 "nbformat_minor": 2
}
