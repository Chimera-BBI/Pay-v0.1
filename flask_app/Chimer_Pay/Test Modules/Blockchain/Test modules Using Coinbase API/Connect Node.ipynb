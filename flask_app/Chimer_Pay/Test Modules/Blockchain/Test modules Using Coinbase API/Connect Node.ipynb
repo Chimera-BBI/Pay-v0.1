{
 "cells": [
  {
   "cell_type": "code",
   "execution_count": 1,
   "metadata": {},
   "outputs": [],
   "source": [
    "# Import the Web3 library\n",
    "from web3 import Web3\n",
    "import requests\n",
    "\n",
    "\n",
    "# Set the URL of the Ethereum node you want to connect to\n",
    "infura_url = \"https://goerli.ethereum.coinbasecloud.net\"\n",
    "\n"
   ]
  },
  {
   "cell_type": "code",
   "execution_count": 2,
   "metadata": {},
   "outputs": [],
   "source": [
    "# Set the API key and username to use for authentication\n",
    "api_key = \"LFAS4QZUWCIXAUEX56EZ4CFVNU7A7BNP4T4Q3KPQ\"\n",
    "username = \"ROUECLBUF73ULG4A7SZS\"\n",
    "\n",
    "#Create a session with username and password\n",
    "session = requests.Session()\n",
    "session.auth = (username, api_key)\n",
    " \n",
    "#Connect to your Node\n",
    "web3 = Web3(Web3.HTTPProvider(infura_url, session=session))"
   ]
  },
  {
   "cell_type": "code",
   "execution_count": 3,
   "metadata": {},
   "outputs": [
    {
     "name": "stdout",
     "output_type": "stream",
     "text": [
      "Successfully connected to the node at https://goerli.ethereum.coinbasecloud.net\n"
     ]
    }
   ],
   "source": [
    "# Checking if the connection to the node was successful\n",
    "if web3.isConnected():\n",
    "    print(\"Successfully connected to the node at\", infura_url)\n",
    "else:\n",
    "    print(\"Connection to node failed. Please check the URL and try again.\")\n",
    "\n"
   ]
  },
  {
   "cell_type": "code",
   "execution_count": 4,
   "metadata": {},
   "outputs": [
    {
     "name": "stdout",
     "output_type": "stream",
     "text": [
      "The current block number is 8283121\n"
     ]
    }
   ],
   "source": [
    "# Getting the current block number of the entire blockchain\n",
    "current_block_number = web3.eth.blockNumber\n",
    "print(\"The current block number is\", current_block_number)"
   ]
  },
  {
   "cell_type": "code",
   "execution_count": 5,
   "metadata": {},
   "outputs": [
    {
     "data": {
      "text/plain": [
       "0"
      ]
     },
     "execution_count": 5,
     "metadata": {},
     "output_type": "execute_result"
    }
   ],
   "source": [
    "web3.eth.getBalance(\"0x7281F1C206e60ad12011407a60444a721A2f4D76\")"
   ]
  },
  {
   "cell_type": "code",
   "execution_count": null,
   "metadata": {},
   "outputs": [],
   "source": []
  }
 ],
 "metadata": {
  "kernelspec": {
   "display_name": "Chimera",
   "language": "python",
   "name": "python3"
  },
  "language_info": {
   "codemirror_mode": {
    "name": "ipython",
    "version": 3
   },
   "file_extension": ".py",
   "mimetype": "text/x-python",
   "name": "python",
   "nbconvert_exporter": "python",
   "pygments_lexer": "ipython3",
   "version": "3.8.15"
  },
  "orig_nbformat": 4,
  "vscode": {
   "interpreter": {
    "hash": "7bccbb9776c8d6e6e2ffbf134f4db1f5658f0edaed5820fb1cc7ba26f3a713c5"
   }
  }
 },
 "nbformat": 4,
 "nbformat_minor": 2
}
